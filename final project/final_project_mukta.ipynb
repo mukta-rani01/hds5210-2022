{
 "cells": [
  {
   "cell_type": "markdown",
   "metadata": {},
   "source": [
    "# HDS 5210-2022/Fall Final Project: Autism Prevalence studies And Flu Vaccinations in two Dataset\n",
    "### Mukta Rani\n",
    "\n",
    "This project examines data about flu vaccination coverage in different enthnicity in the world, uses of different flu vaccinations in the world and autism prevalence studies using 2 data sources: the HealthData govt and Data Directory(Instructor provided) and the Studies of Autism Prevalence. Thus, the present project focuses on 20019-2022 and 2016-2017 data. \n",
    "\n",
    "All data/documentation can be found at the following links: \n",
    "* Autism Prevalence studies:\n",
    "    * Demographics:\n",
    "        * Documentation:https://www.ncbi.nlm.nih.gov/pmc/articles/PMC2083083/\n",
    "        * Data: https://data.cdc.gov/api/views/9mw4-6adp/columns.json,\n",
    "              https://healthdata.gov/dataset/autism-prevalence-studies/ggvy-6bjb\n",
    "*Cumulative_Influenza_Vaccination_Coverage__by_Flu_Season_and_Race_Ethnicity__Pregnant_Persons_18-49_years :\n",
    "    * Documentation:  https://healthdata.gov/dataset/Cumulative-Influenza-Vaccination-Coverage-by-Flu-S/x6su-3vcaStudy  \n",
    "     * Data : 'https://data.cdc.gov/api/views/fz77-au2z/columns.json'\n",
    "             https://data.cdc.gov/api/views/fz77-au2z/rows.csv?accessType=DOWNLOAD\n",
    "    \n",
    "    * flu_2016_2017: 'data/diectory/flu_2016_2017.csv'\n",
    "        Files were saved to the `/final` directory for ease of access.  "
   ]
  },
  {
   "cell_type": "markdown",
   "metadata": {},
   "source": [
    "## Study Objectives\n",
    "I was working as a medical officers in one of medical school with their attached hospital for special children like cerebral palsy, down syndrom, autism , delayed milestone and so on where i paticularly focus on cp child and autism children(a developmental disability caused by differences in the brain). So I plan to extract data from the Health Data.govt and study somes studies related to it from PubMed Central.Diagnostic criteria used, age of children screened, and study location.I  will examine data for individuals mental and behavioral health outcomes and treatment. In particular, I will use the data to get to know about their IQ score and what type of autism is more common and in which country of area.With that Treatment data would be more possible and skills which are needed for those children are more beneficial. The larger project will include about autism data and a portion of flu vaccination coverage and what types of influeza vaccine are common in the world.\n",
    "\n",
    "As no one dataset contains all the information one typically needs, cross-comparison between two similar data sources is often required. The current project will focus on proor-of-concept, data management, and exploratory analysis. In addition, I will compare data from flu_2016_2017 with cumlumative influenza vaccination coverage among race_ethnicity to determine whether they are comparable information or not, in-person study. From the current project, I will identify variables that could be harmonized and compared between the two data sources. This cross-sectional analysis will be the first step towards future comparisons between these two data sets. This will be particularly useful for autism prevalence studies for collecting data in future. If the conclusions drawn from studies and the data of flu vaccinations for coverage and types are similar regarding children's mental & behavioral health and vaccine outcomes, it would be a good data source to continue to monitor HealthDatta.govt and PubMed Centre for future data collection and literature. If these conclusions are different, the necessity of further studies and more diging down the data."
   ]
  },
  {
   "cell_type": "markdown",
   "metadata": {},
   "source": [
    "## Interesting Varibles\n",
    "\n",
    "The documentation for both datasets was examined and a final set of interesting varibles are described. Concepts of interest are summarized below:\n",
    "* Age\n",
    "* data_json\n",
    "* new_data\n",
    "* df2 , df3 , df4, df5\n",
    "* avg_col\n",
    "* int_col\n",
    "* data\n",
    "* frame\n",
    "* range_frame"
   ]
  },
  {
   "cell_type": "markdown",
   "metadata": {},
   "source": [
    "## Analytic Data Set\n",
    "\n",
    "Flu Vaccination among different enthnicity data for 2019-2022 is limited to \"races\" while flu vaccine types in the world have samples of broader portion of the world population. To facilitate accurate comparisons, data was limited to 2016-2017 and 2019-2022. \n",
    "\n",
    "Autism prevalence studies is taken for more analysis, the present analysis uses for initial comparisons. Common names were assigned to these variables to create a single set. The flu vaccination among races and flu vaccine types data were then concatenated to create a composite analytic data set."
   ]
  },
  {
   "cell_type": "code",
   "execution_count": 4,
   "metadata": {},
   "outputs": [],
   "source": [
    "#opening and loading the files to see what is in it\n",
    "from urllib.request import urlopen\n",
    "import json\n",
    "def get_files(type):\n",
    "    \"\"\"(string) -> string\n",
    "    This function download the right json file from webpage and it opens the file as well.\n",
    "    \n",
    "    >>> len(get_files('autism'))\n",
    "    26\n",
    "    \"\"\"\n",
    "    \n",
    "    if type == 'autism':\n",
    "        url = ('https://data.cdc.gov/api/views/9mw4-6adp/columns.json')\n",
    "        response = urlopen(url)\n",
    "        data_json = json.loads(response.read())\n",
    "    \n",
    "    elif type == 'cumulative':\n",
    "        url = ('https://data.cdc.gov/api/views/fz77-au2z/columns.json')\n",
    "        response = urlopen(url)\n",
    "        data_json = json.loads(response.read())\n",
    "    \n",
    "    else: \n",
    "        data_json = 'data is not found'\n",
    "        \n",
    "    return data_json"
   ]
  },
  {
   "cell_type": "code",
   "execution_count": 5,
   "metadata": {},
   "outputs": [
    {
     "name": "stdout",
     "output_type": "stream",
     "text": [
      "Finding tests in NoName\n",
      "Trying:\n",
      "    len(get_files('autism'))\n",
      "Expecting:\n",
      "    26\n",
      "ok\n"
     ]
    }
   ],
   "source": [
    "import doctest\n",
    "doctest.run_docstring_examples(get_files,globals(), verbose = True) "
   ]
  },
  {
   "cell_type": "code",
   "execution_count": 6,
   "metadata": {},
   "outputs": [
    {
     "data": {
      "text/plain": [
       "26"
      ]
     },
     "execution_count": 6,
     "metadata": {},
     "output_type": "execute_result"
    }
   ],
   "source": [
    "len(get_files('autism'))"
   ]
  },
  {
   "cell_type": "code",
   "execution_count": 7,
   "metadata": {},
   "outputs": [
    {
     "data": {
      "text/plain": [
       "4"
      ]
     },
     "execution_count": 7,
     "metadata": {},
     "output_type": "execute_result"
    }
   ],
   "source": [
    "len(get_files('cumulative'))"
   ]
  },
  {
   "cell_type": "code",
   "execution_count": 8,
   "metadata": {},
   "outputs": [
    {
     "data": {
      "text/plain": [
       "list"
      ]
     },
     "execution_count": 8,
     "metadata": {},
     "output_type": "execute_result"
    }
   ],
   "source": [
    "import json\n",
    "url = ('https://data.cdc.gov/api/views/9mw4-6adp/columns.json')\n",
    "response = urlopen(url)\n",
    "data_json = json.loads(response.read()) \n",
    "\n",
    "type(data_json)"
   ]
  },
  {
   "cell_type": "code",
   "execution_count": 9,
   "metadata": {},
   "outputs": [
    {
     "data": {
      "text/plain": [
       "26"
      ]
     },
     "execution_count": 9,
     "metadata": {},
     "output_type": "execute_result"
    }
   ],
   "source": [
    "len(data_json)"
   ]
  },
  {
   "cell_type": "code",
   "execution_count": 10,
   "metadata": {},
   "outputs": [
    {
     "name": "stdout",
     "output_type": "stream",
     "text": [
      "{'id': 496006366, 'name': 'Author', 'dataTypeName': 'text', 'description': 'primary author of publication ', 'fieldName': 'author', 'position': 1, 'renderTypeName': 'text', 'tableColumnId': 115942939, 'cachedContents': {'non_null': '200', 'largest': 'Zhou, et al.', 'null': '0', 'top': [{'item': 'Fombonne, et al.', 'count': '5'}, {'item': 'Atladottir, et al.', 'count': '4'}, {'item': 'Zablotsky, et al.', 'count': '4'}, {'item': 'Parner, et al.', 'count': '3'}, {'item': 'Christensen, et al. (CDC ADDM)', 'count': '3'}, {'item': 'Sun, et al.', 'count': '3'}, {'item': 'Ouellette-Kuntz, et al.', 'count': '3'}, {'item': 'Chakrabarti, et al.', 'count': '2'}, {'item': 'Kim, et al.', 'count': '2'}, {'item': 'Gillberg, et al.', 'count': '2'}, {'item': 'Honda, et al.', 'count': '2'}, {'item': 'Wing, et al.', 'count': '2'}, {'item': 'Nevison, et al.', 'count': '2'}, {'item': 'Xu, et al.', 'count': '2'}, {'item': 'Nicholas, et al.', 'count': '2'}, {'item': 'Kogan, et al.', 'count': '2'}, {'item': 'Lai, et al.', 'count': '2'}, {'item': 'Surén, et al.', 'count': '2'}, {'item': 'Taylor, et al.', 'count': '2'}, {'item': 'May, et al.', 'count': '2'}], 'smallest': 'Akhter, et al.', 'count': '200', 'cardinality': '165'}, 'format': {}}\n"
     ]
    }
   ],
   "source": [
    "print(data_json[0])"
   ]
  },
  {
   "cell_type": "code",
   "execution_count": 11,
   "metadata": {},
   "outputs": [
    {
     "name": "stdout",
     "output_type": "stream",
     "text": [
      "text\n",
      "text\n",
      "text\n",
      "text\n",
      "text\n",
      "text\n",
      "text\n",
      "text\n",
      "text\n",
      "number\n",
      "number\n",
      "number\n",
      "text\n",
      "number\n",
      "number\n",
      "number\n",
      "text\n",
      "number\n",
      "text\n",
      "number\n",
      "number\n",
      "number\n",
      "text\n",
      "text\n",
      "url\n",
      "text\n"
     ]
    }
   ],
   "source": [
    "# write function to get range\n",
    "for i in range(len(data_json)):\n",
    "  print(data_json[i]['dataTypeName'])"
   ]
  },
  {
   "cell_type": "code",
   "execution_count": 12,
   "metadata": {},
   "outputs": [
    {
     "data": {
      "text/plain": [
       "12"
      ]
     },
     "execution_count": 12,
     "metadata": {},
     "output_type": "execute_result"
    }
   ],
   "source": [
    "len('dataTypeName')"
   ]
  },
  {
   "cell_type": "code",
   "execution_count": 13,
   "metadata": {},
   "outputs": [
    {
     "name": "stdout",
     "output_type": "stream",
     "text": [
      "Author\n",
      "Title\n",
      "Year Published\n",
      "Country\n",
      "Area(s)\n",
      "Age Range\n",
      "Study Years\n",
      "Case Identification Method\n",
      "Case Criterion\n",
      "Sample Size\n",
      "Number of Cases\n",
      "ASD Prevalence Estimate per 1,000\n",
      "Confidence Interval (CI)\n",
      "Male:Female Sex Ratio\n",
      "Non-Hispanic White:Hispanic Prevalence Ratio\n",
      "White:Black Prevalence Ratio\n",
      "Diagnosis Age Range (months)\n",
      "Diagnosis Mean Age (months)\n",
      "Diagnosis Median Age (months)\n",
      "IQ Score <70 (%)\n",
      "Adaptive Score <70 (%)\n",
      "Non-Verbal or Minimally Verbal (%)\n",
      "Percentage of Individual Co-occurring Conditions\n",
      "Autism Types Included\n",
      "Link to Publication\n",
      "CDC Calculated Values\n"
     ]
    }
   ],
   "source": [
    "for i in range(len(data_json)):\n",
    "  print(data_json[i]['name'])"
   ]
  },
  {
   "cell_type": "code",
   "execution_count": 14,
   "metadata": {},
   "outputs": [
    {
     "data": {
      "text/plain": [
       "4"
      ]
     },
     "execution_count": 14,
     "metadata": {},
     "output_type": "execute_result"
    }
   ],
   "source": [
    "len('name')"
   ]
  },
  {
   "cell_type": "code",
   "execution_count": 15,
   "metadata": {},
   "outputs": [
    {
     "name": "stdout",
     "output_type": "stream",
     "text": [
      "id\n",
      "name\n",
      "dataTypeName\n",
      "description\n",
      "fieldName\n",
      "position\n",
      "renderTypeName\n",
      "tableColumnId\n",
      "cachedContents\n",
      "format\n",
      "-------------\n",
      "id\n",
      "name\n",
      "dataTypeName\n",
      "description\n",
      "fieldName\n",
      "position\n",
      "renderTypeName\n",
      "tableColumnId\n",
      "cachedContents\n",
      "format\n",
      "-------------\n",
      "id\n",
      "name\n",
      "dataTypeName\n",
      "description\n",
      "fieldName\n",
      "position\n",
      "renderTypeName\n",
      "tableColumnId\n",
      "cachedContents\n",
      "format\n",
      "-------------\n",
      "id\n",
      "name\n",
      "dataTypeName\n",
      "description\n",
      "fieldName\n",
      "position\n",
      "renderTypeName\n",
      "tableColumnId\n",
      "cachedContents\n",
      "format\n",
      "-------------\n",
      "id\n",
      "name\n",
      "dataTypeName\n",
      "description\n",
      "fieldName\n",
      "position\n",
      "renderTypeName\n",
      "tableColumnId\n",
      "cachedContents\n",
      "format\n",
      "-------------\n",
      "id\n",
      "name\n",
      "dataTypeName\n",
      "description\n",
      "fieldName\n",
      "position\n",
      "renderTypeName\n",
      "tableColumnId\n",
      "cachedContents\n",
      "format\n",
      "-------------\n",
      "id\n",
      "name\n",
      "dataTypeName\n",
      "description\n",
      "fieldName\n",
      "position\n",
      "renderTypeName\n",
      "tableColumnId\n",
      "cachedContents\n",
      "format\n",
      "-------------\n",
      "id\n",
      "name\n",
      "dataTypeName\n",
      "description\n",
      "fieldName\n",
      "position\n",
      "renderTypeName\n",
      "tableColumnId\n",
      "cachedContents\n",
      "format\n",
      "-------------\n",
      "id\n",
      "name\n",
      "dataTypeName\n",
      "description\n",
      "fieldName\n",
      "position\n",
      "renderTypeName\n",
      "tableColumnId\n",
      "cachedContents\n",
      "format\n",
      "-------------\n",
      "id\n",
      "name\n",
      "dataTypeName\n",
      "description\n",
      "fieldName\n",
      "position\n",
      "renderTypeName\n",
      "tableColumnId\n",
      "cachedContents\n",
      "format\n",
      "-------------\n",
      "id\n",
      "name\n",
      "dataTypeName\n",
      "description\n",
      "fieldName\n",
      "position\n",
      "renderTypeName\n",
      "tableColumnId\n",
      "cachedContents\n",
      "format\n",
      "-------------\n",
      "id\n",
      "name\n",
      "dataTypeName\n",
      "description\n",
      "fieldName\n",
      "position\n",
      "renderTypeName\n",
      "tableColumnId\n",
      "cachedContents\n",
      "format\n",
      "-------------\n",
      "id\n",
      "name\n",
      "dataTypeName\n",
      "description\n",
      "fieldName\n",
      "position\n",
      "renderTypeName\n",
      "tableColumnId\n",
      "cachedContents\n",
      "format\n",
      "-------------\n",
      "id\n",
      "name\n",
      "dataTypeName\n",
      "description\n",
      "fieldName\n",
      "position\n",
      "renderTypeName\n",
      "tableColumnId\n",
      "cachedContents\n",
      "format\n",
      "-------------\n",
      "id\n",
      "name\n",
      "dataTypeName\n",
      "description\n",
      "fieldName\n",
      "position\n",
      "renderTypeName\n",
      "tableColumnId\n",
      "cachedContents\n",
      "format\n",
      "-------------\n",
      "id\n",
      "name\n",
      "dataTypeName\n",
      "description\n",
      "fieldName\n",
      "position\n",
      "renderTypeName\n",
      "tableColumnId\n",
      "cachedContents\n",
      "format\n",
      "-------------\n",
      "id\n",
      "name\n",
      "dataTypeName\n",
      "description\n",
      "fieldName\n",
      "position\n",
      "renderTypeName\n",
      "tableColumnId\n",
      "cachedContents\n",
      "format\n",
      "-------------\n",
      "id\n",
      "name\n",
      "dataTypeName\n",
      "description\n",
      "fieldName\n",
      "position\n",
      "renderTypeName\n",
      "tableColumnId\n",
      "cachedContents\n",
      "format\n",
      "-------------\n",
      "id\n",
      "name\n",
      "dataTypeName\n",
      "description\n",
      "fieldName\n",
      "position\n",
      "renderTypeName\n",
      "tableColumnId\n",
      "cachedContents\n",
      "format\n",
      "-------------\n",
      "id\n",
      "name\n",
      "dataTypeName\n",
      "description\n",
      "fieldName\n",
      "position\n",
      "renderTypeName\n",
      "tableColumnId\n",
      "cachedContents\n",
      "format\n",
      "-------------\n",
      "id\n",
      "name\n",
      "dataTypeName\n",
      "description\n",
      "fieldName\n",
      "position\n",
      "renderTypeName\n",
      "tableColumnId\n",
      "cachedContents\n",
      "format\n",
      "-------------\n",
      "id\n",
      "name\n",
      "dataTypeName\n",
      "description\n",
      "fieldName\n",
      "position\n",
      "renderTypeName\n",
      "tableColumnId\n",
      "cachedContents\n",
      "format\n",
      "-------------\n",
      "id\n",
      "name\n",
      "dataTypeName\n",
      "description\n",
      "fieldName\n",
      "position\n",
      "renderTypeName\n",
      "tableColumnId\n",
      "cachedContents\n",
      "format\n",
      "-------------\n",
      "id\n",
      "name\n",
      "dataTypeName\n",
      "description\n",
      "fieldName\n",
      "position\n",
      "renderTypeName\n",
      "tableColumnId\n",
      "cachedContents\n",
      "format\n",
      "-------------\n",
      "id\n",
      "name\n",
      "dataTypeName\n",
      "description\n",
      "fieldName\n",
      "position\n",
      "renderTypeName\n",
      "tableColumnId\n",
      "format\n",
      "subColumnTypes\n",
      "-------------\n",
      "id\n",
      "name\n",
      "dataTypeName\n",
      "description\n",
      "fieldName\n",
      "position\n",
      "renderTypeName\n",
      "tableColumnId\n",
      "cachedContents\n",
      "format\n",
      "-------------\n"
     ]
    }
   ],
   "source": [
    "# iterate over the list\n",
    "for i in data_json:\n",
    "   \n",
    "    # now i is a dict, now we see the keys\n",
    "    # of the dict\n",
    "    for key in i.keys():\n",
    "       \n",
    "        # print every key of each dict\n",
    "        print(key)\n",
    " \n",
    "    print(\"-------------\")"
   ]
  },
  {
   "cell_type": "code",
   "execution_count": 16,
   "metadata": {},
   "outputs": [
    {
     "data": {
      "text/html": [
       "<div>\n",
       "<style scoped>\n",
       "    .dataframe tbody tr th:only-of-type {\n",
       "        vertical-align: middle;\n",
       "    }\n",
       "\n",
       "    .dataframe tbody tr th {\n",
       "        vertical-align: top;\n",
       "    }\n",
       "\n",
       "    .dataframe thead th {\n",
       "        text-align: right;\n",
       "    }\n",
       "</style>\n",
       "<table border=\"1\" class=\"dataframe\">\n",
       "  <thead>\n",
       "    <tr style=\"text-align: right;\">\n",
       "      <th></th>\n",
       "      <th>Author</th>\n",
       "      <th>Title</th>\n",
       "      <th>Year Published</th>\n",
       "      <th>Country</th>\n",
       "      <th>Area(s)</th>\n",
       "      <th>Age Range</th>\n",
       "      <th>Study Years</th>\n",
       "      <th>Case Identification Method</th>\n",
       "      <th>Case Criterion</th>\n",
       "      <th>Sample Size</th>\n",
       "      <th>...</th>\n",
       "      <th>Diagnosis Age Range (months)</th>\n",
       "      <th>Diagnosis Mean Age (months)</th>\n",
       "      <th>Diagnosis Median Age (months)</th>\n",
       "      <th>IQ Score &lt;70 (%)</th>\n",
       "      <th>Adaptive Score &lt;70 (%)</th>\n",
       "      <th>Non-Verbal or Minimally Verbal (%)</th>\n",
       "      <th>Percentage of Individual Co-occurring Conditions</th>\n",
       "      <th>Autism Types Included</th>\n",
       "      <th>Link to Publication</th>\n",
       "      <th>CDC Calculated Values</th>\n",
       "    </tr>\n",
       "  </thead>\n",
       "  <tbody>\n",
       "    <tr>\n",
       "      <th>0</th>\n",
       "      <td>Lotter</td>\n",
       "      <td>Epidemiology of Autistic Conditions in Young C...</td>\n",
       "      <td>1966</td>\n",
       "      <td>England</td>\n",
       "      <td>County of Middlesex</td>\n",
       "      <td>8 to 10</td>\n",
       "      <td>1964</td>\n",
       "      <td>survey (mail); health records</td>\n",
       "      <td>Kanner</td>\n",
       "      <td>78000.0</td>\n",
       "      <td>...</td>\n",
       "      <td>NaN</td>\n",
       "      <td>NaN</td>\n",
       "      <td>NaN</td>\n",
       "      <td>84.0</td>\n",
       "      <td>NaN</td>\n",
       "      <td>59.0</td>\n",
       "      <td>NaN</td>\n",
       "      <td>autistic conditions</td>\n",
       "      <td>https://link.springer.com/article/10.1007/BF00...</td>\n",
       "      <td>IQ Score &lt;70 (%); CI</td>\n",
       "    </tr>\n",
       "    <tr>\n",
       "      <th>1</th>\n",
       "      <td>Treffert</td>\n",
       "      <td>Epidemiology of infantile Autism</td>\n",
       "      <td>1970</td>\n",
       "      <td>USA</td>\n",
       "      <td>Wisconsin</td>\n",
       "      <td>2 to 12</td>\n",
       "      <td>1962-1967</td>\n",
       "      <td>health records</td>\n",
       "      <td>Kanner</td>\n",
       "      <td>899750.0</td>\n",
       "      <td>...</td>\n",
       "      <td>NaN</td>\n",
       "      <td>NaN</td>\n",
       "      <td>NaN</td>\n",
       "      <td>NaN</td>\n",
       "      <td>NaN</td>\n",
       "      <td>NaN</td>\n",
       "      <td>NaN</td>\n",
       "      <td>classic infantile autism</td>\n",
       "      <td>https://www.ncbi.nlm.nih.gov/pubmed/5436867</td>\n",
       "      <td>CI</td>\n",
       "    </tr>\n",
       "    <tr>\n",
       "      <th>2</th>\n",
       "      <td>Brask</td>\n",
       "      <td>A Prevalence investigation of Childhood Psychoses</td>\n",
       "      <td>1972</td>\n",
       "      <td>Denmark</td>\n",
       "      <td>Åarhus County</td>\n",
       "      <td>2 to 14</td>\n",
       "      <td>1962</td>\n",
       "      <td>health records; service provider records</td>\n",
       "      <td>clinical interpretation</td>\n",
       "      <td>46500.0</td>\n",
       "      <td>...</td>\n",
       "      <td>NaN</td>\n",
       "      <td>NaN</td>\n",
       "      <td>NaN</td>\n",
       "      <td>NaN</td>\n",
       "      <td>NaN</td>\n",
       "      <td>NaN</td>\n",
       "      <td>NaN</td>\n",
       "      <td>autistic syndrome</td>\n",
       "      <td>NaN</td>\n",
       "      <td>CI</td>\n",
       "    </tr>\n",
       "    <tr>\n",
       "      <th>3</th>\n",
       "      <td>Wing, et al.</td>\n",
       "      <td>The prevalence of early childhood autism: comp...</td>\n",
       "      <td>1976</td>\n",
       "      <td>England</td>\n",
       "      <td>Camberwall</td>\n",
       "      <td>5 to 14</td>\n",
       "      <td>1974</td>\n",
       "      <td>registry; survey (unspecified)</td>\n",
       "      <td>clinical interpretation</td>\n",
       "      <td>25000.0</td>\n",
       "      <td>...</td>\n",
       "      <td>NaN</td>\n",
       "      <td>NaN</td>\n",
       "      <td>NaN</td>\n",
       "      <td>NaN</td>\n",
       "      <td>NaN</td>\n",
       "      <td>NaN</td>\n",
       "      <td>NaN</td>\n",
       "      <td>early childhood autism</td>\n",
       "      <td>https://pubmed.ncbi.nlm.nih.gov/935299/</td>\n",
       "      <td>CI</td>\n",
       "    </tr>\n",
       "    <tr>\n",
       "      <th>4</th>\n",
       "      <td>Wing, et al.</td>\n",
       "      <td>Severe impairments of social interaction and a...</td>\n",
       "      <td>1979</td>\n",
       "      <td>England</td>\n",
       "      <td>Camberwell</td>\n",
       "      <td>0 to 14</td>\n",
       "      <td>1970</td>\n",
       "      <td>registry; service provider records</td>\n",
       "      <td>Kanner; clinical interpretation</td>\n",
       "      <td>35000.0</td>\n",
       "      <td>...</td>\n",
       "      <td>NaN</td>\n",
       "      <td>NaN</td>\n",
       "      <td>NaN</td>\n",
       "      <td>70.0</td>\n",
       "      <td>NaN</td>\n",
       "      <td>59.0</td>\n",
       "      <td>0 (Down syndrome)</td>\n",
       "      <td>autism</td>\n",
       "      <td>https://www.ncbi.nlm.nih.gov/pubmed/155684</td>\n",
       "      <td>IQ Score &lt;70 (%); CI</td>\n",
       "    </tr>\n",
       "  </tbody>\n",
       "</table>\n",
       "<p>5 rows × 26 columns</p>\n",
       "</div>"
      ],
      "text/plain": [
       "         Author                                              Title  \\\n",
       "0        Lotter  Epidemiology of Autistic Conditions in Young C...   \n",
       "1      Treffert                   Epidemiology of infantile Autism   \n",
       "2         Brask  A Prevalence investigation of Childhood Psychoses   \n",
       "3  Wing, et al.  The prevalence of early childhood autism: comp...   \n",
       "4  Wing, et al.  Severe impairments of social interaction and a...   \n",
       "\n",
       "   Year Published  Country              Area(s) Age Range Study Years  \\\n",
       "0            1966  England  County of Middlesex   8 to 10        1964   \n",
       "1            1970      USA            Wisconsin   2 to 12   1962-1967   \n",
       "2            1972  Denmark        Åarhus County   2 to 14        1962   \n",
       "3            1976  England           Camberwall   5 to 14        1974   \n",
       "4            1979  England           Camberwell   0 to 14        1970   \n",
       "\n",
       "                 Case Identification Method                   Case Criterion  \\\n",
       "0             survey (mail); health records                           Kanner   \n",
       "1                            health records                           Kanner   \n",
       "2  health records; service provider records          clinical interpretation   \n",
       "3            registry; survey (unspecified)          clinical interpretation   \n",
       "4        registry; service provider records  Kanner; clinical interpretation   \n",
       "\n",
       "   Sample Size  ...  Diagnosis Age Range (months)  \\\n",
       "0      78000.0  ...                           NaN   \n",
       "1     899750.0  ...                           NaN   \n",
       "2      46500.0  ...                           NaN   \n",
       "3      25000.0  ...                           NaN   \n",
       "4      35000.0  ...                           NaN   \n",
       "\n",
       "   Diagnosis Mean Age (months) Diagnosis Median Age (months)  \\\n",
       "0                          NaN                           NaN   \n",
       "1                          NaN                           NaN   \n",
       "2                          NaN                           NaN   \n",
       "3                          NaN                           NaN   \n",
       "4                          NaN                           NaN   \n",
       "\n",
       "   IQ Score <70 (%)  Adaptive Score <70 (%)  \\\n",
       "0              84.0                     NaN   \n",
       "1               NaN                     NaN   \n",
       "2               NaN                     NaN   \n",
       "3               NaN                     NaN   \n",
       "4              70.0                     NaN   \n",
       "\n",
       "   Non-Verbal or Minimally Verbal (%)  \\\n",
       "0                                59.0   \n",
       "1                                 NaN   \n",
       "2                                 NaN   \n",
       "3                                 NaN   \n",
       "4                                59.0   \n",
       "\n",
       "  Percentage of Individual Co-occurring Conditions     Autism Types Included  \\\n",
       "0                                              NaN       autistic conditions   \n",
       "1                                              NaN  classic infantile autism   \n",
       "2                                              NaN         autistic syndrome   \n",
       "3                                              NaN    early childhood autism   \n",
       "4                                0 (Down syndrome)                    autism   \n",
       "\n",
       "                                 Link to Publication  CDC Calculated Values  \n",
       "0  https://link.springer.com/article/10.1007/BF00...   IQ Score <70 (%); CI  \n",
       "1        https://www.ncbi.nlm.nih.gov/pubmed/5436867                     CI  \n",
       "2                                                NaN                     CI  \n",
       "3            https://pubmed.ncbi.nlm.nih.gov/935299/                     CI  \n",
       "4         https://www.ncbi.nlm.nih.gov/pubmed/155684   IQ Score <70 (%); CI  \n",
       "\n",
       "[5 rows x 26 columns]"
      ]
     },
     "execution_count": 16,
     "metadata": {},
     "output_type": "execute_result"
    }
   ],
   "source": [
    "#to find more interesting things i convert this json into excelsheet to dig more and more and get useful stuff\n",
    "import pandas as pd\n",
    " \n",
    "# reading the CSV file\n",
    "new_data = pd.read_csv('https://data.cdc.gov/api/views/9mw4-6adp/rows.csv?accessType=DOWNLOAD')\n",
    " \n",
    "# displaying the contents of the CSV file\n",
    "new_data.head()\n"
   ]
  },
  {
   "cell_type": "code",
   "execution_count": 17,
   "metadata": {},
   "outputs": [
    {
     "name": "stdout",
     "output_type": "stream",
     "text": [
      "Year Published                                    2008.880000\n",
      "Sample Size                                     953473.553763\n",
      "Number of Cases                                   5018.600000\n",
      "ASD Prevalence Estimate per 1,000                    8.171285\n",
      "Male:Female Sex Ratio                                4.090227\n",
      "Non-Hispanic White:Hispanic Prevalence Ratio         1.834444\n",
      "White:Black Prevalence Ratio                         2.306333\n",
      "Diagnosis Mean Age (months)                         50.264615\n",
      "IQ Score <70 (%)                                    49.673182\n",
      "Adaptive Score <70 (%)                              58.000000\n",
      "Non-Verbal or Minimally Verbal (%)                  41.130769\n",
      "dtype: float64\n"
     ]
    }
   ],
   "source": [
    "# calculate the average of each column\n",
    "av_column = new_data.mean(axis=0)\n",
    "print (av_column)"
   ]
  },
  {
   "cell_type": "code",
   "execution_count": 18,
   "metadata": {},
   "outputs": [
    {
     "data": {
      "text/plain": [
       "array(['England', 'USA', 'Denmark', 'Japan', 'Sweden', 'Ireland',\n",
       "       'Germany', 'Canada', 'France', 'Indonesia', 'Wales', 'Norway',\n",
       "       'Finland', 'Iceland', 'United Kingdom', 'Australia', 'Spain',\n",
       "       'China', 'Scotland', 'Portugal', 'United Arab Emirates',\n",
       "       'Venezuela', 'Caribbean', 'Sri Lanka', 'Oman', 'Taiwan',\n",
       "       'South Korea', 'Brazil', 'Iran', 'Bahrain', 'Israel', 'Uganda',\n",
       "       'United Kindgom', 'United Kindgon', 'Ecuador', 'Nigeria',\n",
       "       'Lebanon', 'Mexico', 'India', 'Poland', 'Nepal', 'Italy',\n",
       "       'Bangladesh', 'Qatar', 'Vietnam', 'Basque Country, Spain',\n",
       "       'Greece'], dtype=object)"
      ]
     },
     "execution_count": 18,
     "metadata": {},
     "output_type": "execute_result"
    }
   ],
   "source": [
    "new_data.Country.unique()"
   ]
  },
  {
   "cell_type": "code",
   "execution_count": 19,
   "metadata": {},
   "outputs": [
    {
     "data": {
      "text/plain": [
       "USA                      56\n",
       "England                  15\n",
       "Sweden                   14\n",
       "Canada                   11\n",
       "Australia                 9\n",
       "Japan                     8\n",
       "Denmark                   8\n",
       "China                     7\n",
       "France                    5\n",
       "Spain                     5\n",
       "Norway                    5\n",
       "Taiwan                    4\n",
       "India                     4\n",
       "Finland                   3\n",
       "Wales                     3\n",
       "Iran                      3\n",
       "South Korea               3\n",
       "Scotland                  2\n",
       "Germany                   2\n",
       "United Kingdom            2\n",
       "Iceland                   2\n",
       "Nigeria                   2\n",
       "Ireland                   2\n",
       "Oman                      2\n",
       "Caribbean                 1\n",
       "United Arab Emirates      1\n",
       "Lebanon                   1\n",
       "Portugal                  1\n",
       "Sri Lanka                 1\n",
       "Israel                    1\n",
       "Italy                     1\n",
       "Brazil                    1\n",
       "Bangladesh                1\n",
       "Poland                    1\n",
       "Qatar                     1\n",
       "United Kindgom            1\n",
       "Indonesia                 1\n",
       "Vietnam                   1\n",
       "Mexico                    1\n",
       "Nepal                     1\n",
       "United Kindgon            1\n",
       "Basque Country, Spain     1\n",
       "Uganda                    1\n",
       "Venezuela                 1\n",
       "Bahrain                   1\n",
       "Ecuador                   1\n",
       "Greece                    1\n",
       "Name: Country, dtype: int64"
      ]
     },
     "execution_count": 19,
     "metadata": {},
     "output_type": "execute_result"
    }
   ],
   "source": [
    "new_data.Country.value_counts()"
   ]
  },
  {
   "cell_type": "code",
   "execution_count": 20,
   "metadata": {},
   "outputs": [
    {
     "name": "stdout",
     "output_type": "stream",
     "text": [
      "Index(['Author', 'Title', 'Year Published', 'Country', 'Area', 'Age',\n",
      "       'Study Years', 'CIM', 'Case', 'Sample Size', 'Number of Cases',\n",
      "       'ASD Prevalence Estimate per 1,000', 'Confidence Interval (CI)',\n",
      "       'Male:Female Sex Ratio', 'Non-Hispanic White:Hispanic Prevalence Ratio',\n",
      "       'White:Black Prevalence Ratio', 'Diagnosis Age Range (months)',\n",
      "       'Diagnosis Mean Age (months)', 'Diagnosis Median Age (months)',\n",
      "       'IQ Score <70 (%)', 'Adaptive Score <70 (%)',\n",
      "       'Non-Verbal or Minimally Verbal (%)',\n",
      "       'Percentage of Individual Co-occurring Conditions', 'ATI',\n",
      "       'Link to Publication', 'CDC Calculated Values'],\n",
      "      dtype='object')\n"
     ]
    }
   ],
   "source": [
    "# Renaming most of the columns to easily write code\n",
    "new_data.rename(columns = {'Autism Types Included':'ATI','Case Criterion':'Case','Age Range':'Age','Case Identification Method':'CIM','Area(s)':'Area'}, inplace = True)\n",
    "print(new_data.columns)"
   ]
  },
  {
   "cell_type": "code",
   "execution_count": 21,
   "metadata": {},
   "outputs": [
    {
     "data": {
      "text/plain": [
       "array(['survey (mail); health records', 'health records',\n",
       "       'health records; service provider records',\n",
       "       'registry; survey (unspecified)',\n",
       "       'registry; service provider records', 'survey (mail)',\n",
       "       'survey (unspecified)', 'health records; registry',\n",
       "       'health records; education records',\n",
       "       'health records; service provider records; education records',\n",
       "       'survey (mail); health records; education records; service provider records; other (media campaign)',\n",
       "       'registry; health records',\n",
       "       'other (reserchers conducted initial screening using Bryson Screening Test)',\n",
       "       'survey (in-person; phone)',\n",
       "       'other (government administrative data)',\n",
       "       'service provider records',\n",
       "       'health records; education records; survey (mail)',\n",
       "       'special needs registry; education records', 'survey (in-person)',\n",
       "       'survey (mail); health records; education records', 'registry',\n",
       "       'health records; education records; other (parent referral)',\n",
       "       'education records; health records; service provider records',\n",
       "       'education records', 'registry; health records; education records',\n",
       "       'health records; survey (in-person)',\n",
       "       'education records; health records', 'survey (phone)',\n",
       "       'health records; service provider records; survey (mail)',\n",
       "       'service provider records; education records',\n",
       "       'education records; other (referral)',\n",
       "       'other (government administratove data)',\n",
       "       'health records; education records; service provider records',\n",
       "       'education records; survey (unspecified)',\n",
       "       'health records; education records; registry; service provider records',\n",
       "       'registry; service provider records; other (data from health records collected for a previous study)',\n",
       "       'other (government administraive data)',\n",
       "       'other (government administrative data); service provider records',\n",
       "       'health  records; education records', 'parental report',\n",
       "       'survey (unspecified); registry',\n",
       "       'survey (mail); education records', 'survey (in-person, phone)',\n",
       "       'medical records; service provider records',\n",
       "       'registry ;other (government administrative data); education records',\n",
       "       'survey (in-person; online)',\n",
       "       'education records; health records; service provider records; survey (mail, in-person)',\n",
       "       'other (parent interview as part of on-going cohort study)',\n",
       "       'survey (phone, in-person)', 'survey (online, mail)',\n",
       "       'health records; other (government administrative data)',\n",
       "       'other (census data)', 'other (health insurance records)',\n",
       "       'education records; health records; survey (unspecified)',\n",
       "       'survey (mail); other (government administrative data)',\n",
       "       'survey (online)',\n",
       "       'service provider records; education records; survey (mail, phone)',\n",
       "       'survey (unspecified); service provider records',\n",
       "       'other (government education data)'], dtype=object)"
      ]
     },
     "execution_count": 21,
     "metadata": {},
     "output_type": "execute_result"
    }
   ],
   "source": [
    "new_data.CIM.unique()"
   ]
  },
  {
   "cell_type": "code",
   "execution_count": 22,
   "metadata": {},
   "outputs": [
    {
     "data": {
      "text/plain": [
       "200"
      ]
     },
     "execution_count": 22,
     "metadata": {},
     "output_type": "execute_result"
    }
   ],
   "source": [
    "# CIM = Case Identification Method\n",
    "new_data.CIM.count()"
   ]
  },
  {
   "cell_type": "code",
   "execution_count": 23,
   "metadata": {},
   "outputs": [
    {
     "name": "stdout",
     "output_type": "stream",
     "text": [
      "49.67318181818182\n"
     ]
    }
   ],
   "source": [
    "df2 = new_data[\"IQ Score <70 (%)\"].mean()\n",
    "print(df2)"
   ]
  },
  {
   "cell_type": "code",
   "execution_count": 24,
   "metadata": {},
   "outputs": [
    {
     "name": "stdout",
     "output_type": "stream",
     "text": [
      "41.13076923076923\n"
     ]
    }
   ],
   "source": [
    "df3 = new_data[\"Non-Verbal or Minimally Verbal (%)\"].mean()\n",
    "print(df3)"
   ]
  },
  {
   "cell_type": "code",
   "execution_count": 25,
   "metadata": {},
   "outputs": [
    {
     "name": "stdout",
     "output_type": "stream",
     "text": [
      "Series([], dtype: float64)\n"
     ]
    }
   ],
   "source": [
    "df4 = new_data[['Age']].median()\n",
    "print(df4)"
   ]
  },
  {
   "cell_type": "code",
   "execution_count": 26,
   "metadata": {},
   "outputs": [
    {
     "data": {
      "text/plain": [
       "Nationwide                                                                                                               47\n",
       "Western Australia                                                                                                         4\n",
       "California                                                                                                                4\n",
       "Cambridgeshire                                                                                                            3\n",
       "Catalonia                                                                                                                 3\n",
       "                                                                                                                         ..\n",
       "County of Middlesex                                                                                                       1\n",
       "Arkansas; Arizona; Colorado; Georgia; Maryland; Missouri; New Jersey; North Carolina; South Carolina; Utah; Wisconsin     1\n",
       "Montreal                                                                                                                  1\n",
       "Northern California                                                                                                       1\n",
       "Atibaia                                                                                                                   1\n",
       "Name: Area, Length: 124, dtype: int64"
      ]
     },
     "execution_count": 26,
     "metadata": {},
     "output_type": "execute_result"
    }
   ],
   "source": [
    "new_data.Area.value_counts()"
   ]
  },
  {
   "cell_type": "code",
   "execution_count": 27,
   "metadata": {},
   "outputs": [
    {
     "name": "stdout",
     "output_type": "stream",
     "text": [
      "Case\n",
      "ADOS; clinical interpretation                                                                                    1\n",
      "DMS-IV; clinical interpretation                                                                                  1\n",
      "DSM (not specified)                                                                                              2\n",
      "DSM (not specified); clinical interpretation                                                                     1\n",
      "DSM-5; autism test ( K-SADS-E in Mandarin); clinical interpretation                                              1\n",
      "                                                                                                                ..\n",
      "receipt of autism-specific services; special education classification; other (receipt of government services)    1\n",
      "self-report                                                                                                      1\n",
      "special education classification                                                                                 6\n",
      "special education classification; ICD-9                                                                          1\n",
      "survey (phone)                                                                                                   1\n",
      "Name: Case, Length: 91, dtype: int64\n"
     ]
    }
   ],
   "source": [
    "# try to write a single code to groupby data and count as well\n",
    "df5= new_data.groupby(\"Case\")[\"Case\"].count()\n",
    "print(df5)"
   ]
  },
  {
   "cell_type": "code",
   "execution_count": 28,
   "metadata": {},
   "outputs": [
    {
     "data": {
      "text/plain": [
       "array([[<matplotlib.axes._subplots.AxesSubplot object at 0x7f770542e0f0>]],\n",
       "      dtype=object)"
      ]
     },
     "execution_count": 28,
     "metadata": {},
     "output_type": "execute_result"
    },
    {
     "data": {
      "image/png": "[encoded data removed]",
      "text/plain": [
       "<Figure size 432x288 with 1 Axes>"
      ]
     },
     "metadata": {
      "needs_background": "light"
     },
     "output_type": "display_data"
    }
   ],
   "source": [
    "# draw histogram\n",
    "new_data.hist(column='Number of Cases')"
   ]
  },
  {
   "cell_type": "code",
   "execution_count": null,
   "metadata": {},
   "outputs": [],
   "source": [
    "# Explanation\n",
    "This histogram shows that number of cases of autism are below than one hundred thousands."
   ]
  },
  {
   "cell_type": "code",
   "execution_count": 29,
   "metadata": {},
   "outputs": [
    {
     "data": {
      "text/html": [
       "<div>\n",
       "<style scoped>\n",
       "    .dataframe tbody tr th:only-of-type {\n",
       "        vertical-align: middle;\n",
       "    }\n",
       "\n",
       "    .dataframe tbody tr th {\n",
       "        vertical-align: top;\n",
       "    }\n",
       "\n",
       "    .dataframe thead th {\n",
       "        text-align: right;\n",
       "    }\n",
       "</style>\n",
       "<table border=\"1\" class=\"dataframe\">\n",
       "  <thead>\n",
       "    <tr style=\"text-align: right;\">\n",
       "      <th></th>\n",
       "      <th>Month</th>\n",
       "      <th>Flu Season</th>\n",
       "      <th>Race_Ethnicity</th>\n",
       "      <th>Percentage Vaccinated</th>\n",
       "    </tr>\n",
       "  </thead>\n",
       "  <tbody>\n",
       "    <tr>\n",
       "      <th>0</th>\n",
       "      <td>AUG</td>\n",
       "      <td>2019-2020</td>\n",
       "      <td>Overall</td>\n",
       "      <td>0.0540</td>\n",
       "    </tr>\n",
       "    <tr>\n",
       "      <th>1</th>\n",
       "      <td>AUG</td>\n",
       "      <td>2019-2020</td>\n",
       "      <td>White, Non-Hispanic</td>\n",
       "      <td>0.0365</td>\n",
       "    </tr>\n",
       "    <tr>\n",
       "      <th>2</th>\n",
       "      <td>AUG</td>\n",
       "      <td>2019-2020</td>\n",
       "      <td>Black, Non-Hispanic</td>\n",
       "      <td>0.0328</td>\n",
       "    </tr>\n",
       "    <tr>\n",
       "      <th>3</th>\n",
       "      <td>AUG</td>\n",
       "      <td>2019-2020</td>\n",
       "      <td>Hispanic</td>\n",
       "      <td>0.0794</td>\n",
       "    </tr>\n",
       "    <tr>\n",
       "      <th>4</th>\n",
       "      <td>AUG</td>\n",
       "      <td>2019-2020</td>\n",
       "      <td>Asian, Non-Hispanic</td>\n",
       "      <td>0.0554</td>\n",
       "    </tr>\n",
       "  </tbody>\n",
       "</table>\n",
       "</div>"
      ],
      "text/plain": [
       "  Month Flu Season       Race_Ethnicity  Percentage Vaccinated\n",
       "0   AUG  2019-2020              Overall                 0.0540\n",
       "1   AUG  2019-2020  White, Non-Hispanic                 0.0365\n",
       "2   AUG  2019-2020  Black, Non-Hispanic                 0.0328\n",
       "3   AUG  2019-2020             Hispanic                 0.0794\n",
       "4   AUG  2019-2020  Asian, Non-Hispanic                 0.0554"
      ]
     },
     "execution_count": 29,
     "metadata": {},
     "output_type": "execute_result"
    }
   ],
   "source": [
    "import pandas as pd\n",
    " \n",
    "# reading the CSV file\n",
    "data = pd.read_csv('https://data.cdc.gov/api/views/fz77-au2z/rows.csv?accessType=DOWNLOAD')\n",
    " \n",
    "# displaying the contents of the CSV file\n",
    "data.head()"
   ]
  },
  {
   "cell_type": "code",
   "execution_count": 31,
   "metadata": {},
   "outputs": [
    {
     "name": "stdout",
     "output_type": "stream",
     "text": [
      "            country                            whoregion      fluregion  year  \\\n",
      "-1 0    Afghanistan  Eastern Mediterranean Region of WHO  Southern Asia    -1   \n",
      "   1    Afghanistan  Eastern Mediterranean Region of WHO  Southern Asia    -1   \n",
      "   2    Afghanistan  Eastern Mediterranean Region of WHO  Southern Asia    -1   \n",
      "   3    Afghanistan  Eastern Mediterranean Region of WHO  Southern Asia    -1   \n",
      "   4    Afghanistan  Eastern Mediterranean Region of WHO  Southern Asia    -1   \n",
      "...             ...                                  ...            ...   ...   \n",
      "-3 184          NaN                                  NaN            NaN    -3   \n",
      "   185          NaN                                  NaN            NaN    -3   \n",
      "   186          NaN                                  NaN            NaN    -3   \n",
      "   187          NaN                                  NaN            NaN    -3   \n",
      "   188          NaN                                  NaN            NaN    -3   \n",
      "\n",
      "        week       sdate       edate  spec_received_nb  spec_processed_nb  \\\n",
      "-1 0     1.0  2016-01-04  2016-01-10              87.0               87.0   \n",
      "   1     2.0  2016-01-11  2016-01-17              70.0               70.0   \n",
      "   2     3.0  2016-01-18  2016-01-24             102.0              102.0   \n",
      "   3     4.0  2016-01-25  2016-01-31              77.0               77.0   \n",
      "   4     5.0  2016-02-01  2016-02-07              98.0                0.0   \n",
      "...      ...         ...         ...               ...                ...   \n",
      "-3 184   NaN         NaN         NaN               NaN                NaN   \n",
      "   185   NaN         NaN         NaN               NaN                NaN   \n",
      "   186   NaN         NaN         NaN               NaN                NaN   \n",
      "   187   NaN         NaN         NaN               NaN                NaN   \n",
      "   188   NaN         NaN         NaN               NaN                NaN   \n",
      "\n",
      "        ah1  ...  bvictoria  bnotdetermined  inf_b  all_inf  all_inf2  \\\n",
      "-1 0    0.0  ...        0.0             0.0    0.0     13.0       NaN   \n",
      "   1    0.0  ...        0.0             1.0    1.0      4.0       NaN   \n",
      "   2    0.0  ...        0.0             0.0    0.0      2.0       NaN   \n",
      "   3    0.0  ...        0.0             2.0    2.0      3.0       NaN   \n",
      "   4    0.0  ...        0.0             0.0    0.0      0.0       NaN   \n",
      "...     ...  ...        ...             ...    ...      ...       ...   \n",
      "-3 184  NaN  ...        NaN             NaN    NaN      NaN       NaN   \n",
      "   185  NaN  ...        NaN             NaN    NaN      NaN       NaN   \n",
      "   186  NaN  ...        NaN             NaN    NaN      NaN       NaN   \n",
      "   187  NaN  ...        NaN             NaN    NaN      NaN       NaN   \n",
      "   188  NaN  ...        NaN             NaN    NaN      NaN       NaN   \n",
      "\n",
      "            title  month  flu season       race_ethnicity  \\\n",
      "-1 0     Sporadic    NaN         NaN                  NaN   \n",
      "   1     Sporadic    NaN         NaN                  NaN   \n",
      "   2     Sporadic    NaN         NaN                  NaN   \n",
      "   3    No Report    NaN         NaN                  NaN   \n",
      "   4    No Report    NaN         NaN                  NaN   \n",
      "...           ...    ...         ...                  ...   \n",
      "-3 184        NaN    OCT   2022-2023  Black, Non-Hispanic   \n",
      "   185        NaN    OCT   2022-2023             Hispanic   \n",
      "   186        NaN    OCT   2022-2023  Other, Non-Hispanic   \n",
      "   187        NaN    OCT   2022-2023              Unknown   \n",
      "   188        NaN    OCT   2022-2023  White, Non-Hispanic   \n",
      "\n",
      "        percentage vaccinated  \n",
      "-1 0                      NaN  \n",
      "   1                      NaN  \n",
      "   2                      NaN  \n",
      "   3                      NaN  \n",
      "   4                      NaN  \n",
      "...                       ...  \n",
      "-3 184                 0.2045  \n",
      "   185                 0.3442  \n",
      "   186                 0.3615  \n",
      "   187                 0.2669  \n",
      "   188                 0.3659  \n",
      "\n",
      "[8890 rows x 26 columns]\n"
     ]
    }
   ],
   "source": [
    "# concat the data sets\n",
    "import pandas as pd\n",
    "dataframes = []\n",
    "my_list = ['2016-2017', '2019-2022']\n",
    "df1 = pd.read_csv('/data/flu_2016_2017.csv')\n",
    "df2 = pd.read_csv('https://data.cdc.gov/api/views/fz77-au2z/rows.csv?accessType=DOWNLOAD')\n",
    "df1.columns= df1.columns.str.lower()\n",
    "df2.columns= df2.columns.str.lower()\n",
    "df1['year']= 2016-2017\n",
    "df2['year'] = 2019-2022\n",
    "\n",
    "\n",
    "frame = pd.concat([df1,df2], keys = [2016-2017,2019-2022])\n",
    "print (frame)"
   ]
  },
  {
   "cell_type": "code",
   "execution_count": 32,
   "metadata": {},
   "outputs": [
    {
     "data": {
      "text/plain": [
       "{'ah1',\n",
       " 'ah1n12009',\n",
       " 'ah3',\n",
       " 'ah5',\n",
       " 'all_inf',\n",
       " 'all_inf2',\n",
       " 'anotsubtyped',\n",
       " 'bnotdetermined',\n",
       " 'bvictoria',\n",
       " 'byamagata',\n",
       " 'country',\n",
       " 'edate',\n",
       " 'flu season',\n",
       " 'fluregion',\n",
       " 'inf_a',\n",
       " 'inf_b',\n",
       " 'month',\n",
       " 'percentage vaccinated',\n",
       " 'race_ethnicity',\n",
       " 'sdate',\n",
       " 'spec_processed_nb',\n",
       " 'spec_received_nb',\n",
       " 'title',\n",
       " 'week',\n",
       " 'whoregion',\n",
       " 'year'}"
      ]
     },
     "execution_count": 32,
     "metadata": {},
     "output_type": "execute_result"
    }
   ],
   "source": [
    "set(frame.columns.str.lower())"
   ]
  },
  {
   "cell_type": "code",
   "execution_count": 33,
   "metadata": {},
   "outputs": [
    {
     "data": {
      "text/plain": [
       "(8890, 26)"
      ]
     },
     "execution_count": 33,
     "metadata": {},
     "output_type": "execute_result"
    }
   ],
   "source": [
    "frame.shape"
   ]
  },
  {
   "cell_type": "code",
   "execution_count": 34,
   "metadata": {},
   "outputs": [
    {
     "data": {
      "text/plain": [
       "['country',\n",
       " 'whoregion',\n",
       " 'fluregion',\n",
       " 'year',\n",
       " 'week',\n",
       " 'Start_Date',\n",
       " 'End_Date',\n",
       " 'spec_received_nb',\n",
       " 'spec_processed_nb',\n",
       " 'ah1',\n",
       " 'ah1n12009',\n",
       " 'ah3',\n",
       " 'ah5',\n",
       " 'anotsubtyped',\n",
       " 'inf_a',\n",
       " 'byamagata',\n",
       " 'bvictoria',\n",
       " 'bnotdetermined',\n",
       " 'inf_b',\n",
       " 'all_inf',\n",
       " 'all_inf2',\n",
       " 'title',\n",
       " 'month',\n",
       " 'flu season',\n",
       " 'race_ethnicity',\n",
       " 'percentage vaccinated']"
      ]
     },
     "execution_count": 34,
     "metadata": {},
     "output_type": "execute_result"
    }
   ],
   "source": [
    "# rename the column\n",
    "frame.rename(columns = {'sdate':'Start_Date', 'edate':'End_Date'}, inplace = True)\n",
    "list(frame)"
   ]
  },
  {
   "cell_type": "code",
   "execution_count": 35,
   "metadata": {},
   "outputs": [
    {
     "name": "stdout",
     "output_type": "stream",
     "text": [
      "    start_date   end_date\n",
      "0   2016-04-03 2017-05-31\n",
      "1   2016-04-10 2017-06-30\n",
      "2   2016-04-17 2017-07-31\n",
      "3   2016-04-24 2017-08-31\n",
      "4   2016-05-01 2017-09-30\n",
      "..         ...        ...\n",
      "195 2019-12-29 2033-08-31\n",
      "196 2020-01-05 2033-09-30\n",
      "197 2020-01-12 2033-10-31\n",
      "198 2020-01-19 2033-11-30\n",
      "199 2020-01-26 2033-12-31\n",
      "\n",
      "[200 rows x 2 columns]\n"
     ]
    },
    {
     "data": {
      "text/plain": [
       "country                   object\n",
       "whoregion                 object\n",
       "fluregion                 object\n",
       "year                       int64\n",
       "week                     float64\n",
       "Start_Date                object\n",
       "End_Date                  object\n",
       "spec_received_nb         float64\n",
       "spec_processed_nb        float64\n",
       "ah1                      float64\n",
       "ah1n12009                float64\n",
       "ah3                      float64\n",
       "ah5                      float64\n",
       "anotsubtyped             float64\n",
       "inf_a                    float64\n",
       "byamagata                float64\n",
       "bvictoria                float64\n",
       "bnotdetermined           float64\n",
       "inf_b                    float64\n",
       "all_inf                  float64\n",
       "all_inf2                 float64\n",
       "title                     object\n",
       "month                     object\n",
       "flu season                object\n",
       "race_ethnicity            object\n",
       "percentage vaccinated    float64\n",
       "dtype: object"
      ]
     },
     "execution_count": 35,
     "metadata": {},
     "output_type": "execute_result"
    }
   ],
   "source": [
    "# Date Transformation\n",
    "import pandas as pd\n",
    "\n",
    "#create DataFrame\n",
    "range_frame = pd.DataFrame({'start_date': pd.date_range(start='4/1/2016', periods=200, freq='W'),\n",
    "                   'end_date': pd.date_range(start='28/5/2017', periods=200, freq='M')})\n",
    "\n",
    "#view DataFrame\n",
    "print(range_frame)\n",
    "#view dtype of each column in DataFrame\n",
    "frame.dtypes"
   ]
  },
  {
   "cell_type": "code",
   "execution_count": 36,
   "metadata": {},
   "outputs": [
    {
     "name": "stdout",
     "output_type": "stream",
     "text": [
      "    start_date   end_date  diff_days\n",
      "0   2016-04-03 2017-05-31      423.0\n",
      "1   2016-04-10 2017-06-30      446.0\n",
      "2   2016-04-17 2017-07-31      470.0\n",
      "3   2016-04-24 2017-08-31      494.0\n",
      "4   2016-05-01 2017-09-30      517.0\n",
      "..         ...        ...        ...\n",
      "195 2019-12-29 2033-08-31     4994.0\n",
      "196 2020-01-05 2033-09-30     5017.0\n",
      "197 2020-01-12 2033-10-31     5041.0\n",
      "198 2020-01-19 2033-11-30     5064.0\n",
      "199 2020-01-26 2033-12-31     5088.0\n",
      "\n",
      "[200 rows x 3 columns]\n"
     ]
    }
   ],
   "source": [
    "# Date Transformation\n",
    "import pandas as pd\n",
    "import numpy as np\n",
    "\n",
    "#convert columns to datetime\n",
    "range_frame[['start_date','end_date']] = range_frame[['start_date','end_date']].apply(pd.to_datetime)\n",
    "\n",
    "#calculate difference between dates according to days\n",
    "range_frame['diff_days'] = (range_frame['end_date'] - range_frame['start_date']) / np.timedelta64(1, 'D')\n",
    "\n",
    "#view updated DataFrame\n",
    "print(range_frame)"
   ]
  },
  {
   "cell_type": "code",
   "execution_count": 37,
   "metadata": {},
   "outputs": [
    {
     "name": "stdout",
     "output_type": "stream",
     "text": [
      "    start_date   end_date  diff_days  diff_weeks  diff_months  diff_years\n",
      "0   2016-04-03 2017-05-31      423.0   60.428571    13.897616    1.158135\n",
      "1   2016-04-10 2017-06-30      446.0   63.714286    14.653278    1.221107\n",
      "2   2016-04-17 2017-07-31      470.0   67.142857    15.441796    1.286816\n",
      "3   2016-04-24 2017-08-31      494.0   70.571429    16.230313    1.352526\n",
      "4   2016-05-01 2017-09-30      517.0   73.857143    16.985975    1.415498\n",
      "..         ...        ...        ...         ...          ...         ...\n",
      "195 2019-12-29 2033-08-31     4994.0  713.428571   164.077291   13.673108\n",
      "196 2020-01-05 2033-09-30     5017.0  716.714286   164.832953   13.736079\n",
      "197 2020-01-12 2033-10-31     5041.0  720.142857   165.621471   13.801789\n",
      "198 2020-01-19 2033-11-30     5064.0  723.428571   166.377133   13.864761\n",
      "199 2020-01-26 2033-12-31     5088.0  726.857143   167.165650   13.930471\n",
      "\n",
      "[200 rows x 6 columns]\n"
     ]
    }
   ],
   "source": [
    "import numpy as np\n",
    "\n",
    "#create new columns that contains date differences according to weeks,months and years\n",
    "\n",
    "range_frame['diff_weeks'] = (range_frame['end_date'] - range_frame['start_date']) / np.timedelta64(1, 'W')\n",
    "range_frame['diff_months'] = (range_frame['end_date'] - range_frame['start_date']) / np.timedelta64(1, 'M')\n",
    "range_frame['diff_years'] = (range_frame['end_date'] - range_frame['start_date']) / np.timedelta64(1, 'Y')\n",
    "\n",
    "#view updated DataFrame\n",
    "print(range_frame)"
   ]
  },
  {
   "cell_type": "code",
   "execution_count": 38,
   "metadata": {},
   "outputs": [
    {
     "data": {
      "text/plain": [
       "Index(['country', 'whoregion', 'fluregion', 'year', 'week', 'Start_Date',\n",
       "       'End_Date', 'spec_received_nb', 'spec_processed_nb', 'ah1', 'ah1n12009',\n",
       "       'ah3', 'ah5', 'anotsubtyped', 'inf_a', 'byamagata', 'bvictoria',\n",
       "       'bnotdetermined', 'inf_b', 'all_inf', 'all_inf2', 'title', 'month',\n",
       "       'flu season', 'race_ethnicity', 'percentage vaccinated'],\n",
       "      dtype='object')"
      ]
     },
     "execution_count": 38,
     "metadata": {},
     "output_type": "execute_result"
    }
   ],
   "source": [
    "frame.columns"
   ]
  },
  {
   "cell_type": "code",
   "execution_count": 39,
   "metadata": {},
   "outputs": [
    {
     "data": {
      "text/plain": [
       "array(['Sporadic', 'No Report', 'Regional Outbreak',\n",
       "       'Widespread Outbreak', 'Local Outbreak', 'No Activity', nan],\n",
       "      dtype=object)"
      ]
     },
     "execution_count": 39,
     "metadata": {},
     "output_type": "execute_result"
    }
   ],
   "source": [
    "# get specific values from specific column\n",
    "import pandas as pd\n",
    "int_col = pd.DataFrame(frame)\n",
    "int_col = frame.title.unique()\n",
    "#view DataFrame\n",
    "int_col"
   ]
  },
  {
   "cell_type": "code",
   "execution_count": 40,
   "metadata": {},
   "outputs": [
    {
     "name": "stdout",
     "output_type": "stream",
     "text": [
      "No Report              6464\n",
      "Sporadic               1220\n",
      "Local Outbreak          419\n",
      "No Activity             327\n",
      "Regional Outbreak       196\n",
      "Widespread Outbreak      75\n",
      "Name: title, dtype: int64\n"
     ]
    }
   ],
   "source": [
    "# count unique values\n",
    "import pandas as pd\n",
    "int_col_count=pd.DataFrame(frame)\n",
    "int_col_count = frame['title'].value_counts()\n",
    "print(int_col_count)"
   ]
  },
  {
   "cell_type": "code",
   "execution_count": 41,
   "metadata": {},
   "outputs": [
    {
     "data": {
      "text/html": [
       "<div>\n",
       "<style scoped>\n",
       "    .dataframe tbody tr th:only-of-type {\n",
       "        vertical-align: middle;\n",
       "    }\n",
       "\n",
       "    .dataframe tbody tr th {\n",
       "        vertical-align: top;\n",
       "    }\n",
       "\n",
       "    .dataframe thead th {\n",
       "        text-align: right;\n",
       "    }\n",
       "</style>\n",
       "<table border=\"1\" class=\"dataframe\">\n",
       "  <thead>\n",
       "    <tr style=\"text-align: right;\">\n",
       "      <th></th>\n",
       "      <th>inf_a</th>\n",
       "      <th>inf_b</th>\n",
       "      <th>all_inf</th>\n",
       "    </tr>\n",
       "  </thead>\n",
       "  <tbody>\n",
       "    <tr>\n",
       "      <th>max</th>\n",
       "      <td>NaN</td>\n",
       "      <td>4409.0</td>\n",
       "      <td>NaN</td>\n",
       "    </tr>\n",
       "    <tr>\n",
       "      <th>min</th>\n",
       "      <td>0.0</td>\n",
       "      <td>0.0</td>\n",
       "      <td>0.0</td>\n",
       "    </tr>\n",
       "    <tr>\n",
       "      <th>sum</th>\n",
       "      <td>626674.0</td>\n",
       "      <td>NaN</td>\n",
       "      <td>852714.0</td>\n",
       "    </tr>\n",
       "  </tbody>\n",
       "</table>\n",
       "</div>"
      ],
      "text/plain": [
       "        inf_a   inf_b   all_inf\n",
       "max       NaN  4409.0       NaN\n",
       "min       0.0     0.0       0.0\n",
       "sum  626674.0     NaN  852714.0"
      ]
     },
     "execution_count": 41,
     "metadata": {},
     "output_type": "execute_result"
    }
   ],
   "source": [
    "# now going to find aggregation for these columns\n",
    "frame.aggregate({\"inf_a\":['sum', 'min'],\n",
    "              \"inf_b\":['max', 'min'],\n",
    "              \"all_inf\":['min', 'sum']})"
   ]
  },
  {
   "cell_type": "code",
   "execution_count": 57,
   "metadata": {},
   "outputs": [],
   "source": []
  },
  {
   "cell_type": "markdown",
   "metadata": {},
   "source": [
    "## Data Visualization and Discussion\n",
    "\n",
    "The aggregated data created above will be plotted for visual comparison. "
   ]
  },
  {
   "cell_type": "code",
   "execution_count": 42,
   "metadata": {},
   "outputs": [
    {
     "data": {
      "text/plain": [
       "array([[<matplotlib.axes._subplots.AxesSubplot object at 0x7f7701ed2128>]],\n",
       "      dtype=object)"
      ]
     },
     "execution_count": 42,
     "metadata": {},
     "output_type": "execute_result"
    },
    {
     "data": {
      "image/png": "[encoded data removed]",
      "text/plain": [
       "<Figure size 432x288 with 1 Axes>"
      ]
     },
     "metadata": {
      "needs_background": "light"
     },
     "output_type": "display_data"
    }
   ],
   "source": [
    "#data visulaization\n",
    "frame.hist(column='inf_a')"
   ]
  },
  {
   "cell_type": "code",
   "execution_count": null,
   "metadata": {},
   "outputs": [],
   "source": [
    "# Explanation\n",
    "This histogram tell about one of flu vaccine which is inflenza A(inf_a) that it consume under\n",
    "1000 and slidely above than that."
   ]
  },
  {
   "cell_type": "code",
   "execution_count": 43,
   "metadata": {},
   "outputs": [
    {
     "data": {
      "text/plain": [
       "<matplotlib.axes._subplots.AxesSubplot at 0x7f7701991ef0>"
      ]
     },
     "execution_count": 43,
     "metadata": {},
     "output_type": "execute_result"
    },
    {
     "data": {
      "image/png": "[encoded data removed]",
      "text/plain": [
       "<Figure size 432x288 with 1 Axes>"
      ]
     },
     "metadata": {
      "needs_background": "light"
     },
     "output_type": "display_data"
    }
   ],
   "source": [
    "#create scatterplot\n",
    "frame.plot.scatter(x='bvictoria', y='all_inf')"
   ]
  },
  {
   "cell_type": "code",
   "execution_count": null,
   "metadata": {},
   "outputs": [],
   "source": [
    "# Explanation\n",
    "This scatter plot compare between two flu vaccine which is Bvictoria and all_inf and it describe\n",
    "that all_inf is a way better than bvictoria because all_inf used by 14000 while bvictoria is \n",
    "just 2500."
   ]
  },
  {
   "cell_type": "code",
   "execution_count": 44,
   "metadata": {},
   "outputs": [
    {
     "data": {
      "text/plain": [
       "<matplotlib.axes._subplots.AxesSubplot at 0x7f77018fb9b0>"
      ]
     },
     "execution_count": 44,
     "metadata": {},
     "output_type": "execute_result"
    },
    {
     "data": {
      "image/png": "[encoded data removed]",
      "text/plain": [
       "<Figure size 432x288 with 1 Axes>"
      ]
     },
     "metadata": {
      "needs_background": "light"
     },
     "output_type": "display_data"
    }
   ],
   "source": [
    "frame.plot.scatter(x='inf_a', y='inf_b')"
   ]
  },
  {
   "cell_type": "code",
   "execution_count": null,
   "metadata": {},
   "outputs": [],
   "source": [
    "# Explanation\n",
    "This scatter plot compare between two flu vaccine which is inf_a and inf_b and it describes\n",
    "that inf_a is a way better than inf_b because it dotts goes to 12000 than inf_b which just\n",
    "at 4000.\n"
   ]
  },
  {
   "cell_type": "code",
   "execution_count": 45,
   "metadata": {},
   "outputs": [
    {
     "data": {
      "image/png": "[encoded data removed]",
      "text/plain": [
       "<Figure size 432x288 with 1 Axes>"
      ]
     },
     "metadata": {
      "needs_background": "light"
     },
     "output_type": "display_data"
    }
   ],
   "source": [
    "import matplotlib.pyplot as plot\n",
    "# plot a line graph\n",
    "plot.plot(frame[\"inf_a\"], frame[\"inf_b\"], ['all_inf'])\n",
    "plot.show()"
   ]
  },
  {
   "cell_type": "code",
   "execution_count": null,
   "metadata": {},
   "outputs": [],
   "source": [
    "# Explanation\n",
    "The line graph among three vaccine which are inf_a, inf_b and all_inf and it explains about \n",
    "the all_inf are better than other rest and it is consume by 12000.(like above scatter plot) "
   ]
  },
  {
   "cell_type": "code",
   "execution_count": 46,
   "metadata": {},
   "outputs": [
    {
     "data": {
      "text/plain": [
       "<BarContainer object of 6 artists>"
      ]
     },
     "execution_count": 46,
     "metadata": {},
     "output_type": "execute_result"
    },
    {
     "data": {
      "image/png": "[encoded data removed]",
      "text/plain": [
       "<Figure size 432x288 with 1 Axes>"
      ]
     },
     "metadata": {
      "needs_background": "light"
     },
     "output_type": "display_data"
    }
   ],
   "source": [
    "import numpy as np \n",
    "import matplotlib.pyplot as plt \n",
    "\n",
    "bvictoria = [2, 4, 6, 8, 10, 12]\n",
    "byamagata = [2, 4, 6, 8, 10, 12]\n",
    "\n",
    "r = np.arange(6)\n",
    "width = 4\n",
    "# Draw subplot\n",
    "\n",
    "plt.subplot(1, 2, 1)\n",
    "plt.bar(r, bvictoria, width=width)\n",
    "plt.bar(r + width, byamagata, width=width)"
   ]
  },
  {
   "cell_type": "code",
   "execution_count": null,
   "metadata": {},
   "outputs": [],
   "source": []
  },
  {
   "cell_type": "code",
   "execution_count": 47,
   "metadata": {},
   "outputs": [
    {
     "data": {
      "text/html": [
       "<div>\n",
       "<style scoped>\n",
       "    .dataframe tbody tr th:only-of-type {\n",
       "        vertical-align: middle;\n",
       "    }\n",
       "\n",
       "    .dataframe tbody tr th {\n",
       "        vertical-align: top;\n",
       "    }\n",
       "\n",
       "    .dataframe thead th {\n",
       "        text-align: right;\n",
       "    }\n",
       "</style>\n",
       "<table border=\"1\" class=\"dataframe\">\n",
       "  <thead>\n",
       "    <tr style=\"text-align: right;\">\n",
       "      <th></th>\n",
       "      <th>Month</th>\n",
       "      <th>Flu Season</th>\n",
       "      <th>Race_Ethnicity</th>\n",
       "      <th>Percentage Vaccinated</th>\n",
       "    </tr>\n",
       "  </thead>\n",
       "  <tbody>\n",
       "    <tr>\n",
       "      <th>0</th>\n",
       "      <td>AUG</td>\n",
       "      <td>2019-2020</td>\n",
       "      <td>Overall</td>\n",
       "      <td>0.0540</td>\n",
       "    </tr>\n",
       "    <tr>\n",
       "      <th>1</th>\n",
       "      <td>AUG</td>\n",
       "      <td>2019-2020</td>\n",
       "      <td>White, Non-Hispanic</td>\n",
       "      <td>0.0365</td>\n",
       "    </tr>\n",
       "    <tr>\n",
       "      <th>2</th>\n",
       "      <td>AUG</td>\n",
       "      <td>2019-2020</td>\n",
       "      <td>Black, Non-Hispanic</td>\n",
       "      <td>0.0328</td>\n",
       "    </tr>\n",
       "    <tr>\n",
       "      <th>3</th>\n",
       "      <td>AUG</td>\n",
       "      <td>2019-2020</td>\n",
       "      <td>Hispanic</td>\n",
       "      <td>0.0794</td>\n",
       "    </tr>\n",
       "    <tr>\n",
       "      <th>4</th>\n",
       "      <td>AUG</td>\n",
       "      <td>2019-2020</td>\n",
       "      <td>Asian, Non-Hispanic</td>\n",
       "      <td>0.0554</td>\n",
       "    </tr>\n",
       "  </tbody>\n",
       "</table>\n",
       "</div>"
      ],
      "text/plain": [
       "  Month Flu Season       Race_Ethnicity  Percentage Vaccinated\n",
       "0   AUG  2019-2020              Overall                 0.0540\n",
       "1   AUG  2019-2020  White, Non-Hispanic                 0.0365\n",
       "2   AUG  2019-2020  Black, Non-Hispanic                 0.0328\n",
       "3   AUG  2019-2020             Hispanic                 0.0794\n",
       "4   AUG  2019-2020  Asian, Non-Hispanic                 0.0554"
      ]
     },
     "execution_count": 47,
     "metadata": {},
     "output_type": "execute_result"
    }
   ],
   "source": [
    "# try to open one above file separately to dig more in it\n",
    "import pandas as pd\n",
    "df1 = pd.read_csv('https://data.cdc.gov/api/views/fz77-au2z/rows.csv?accessType=DOWNLOAD')\n",
    "df2 = pd.read_csv('/data/flu_2016_2017.csv')\n",
    "df1.head()"
   ]
  },
  {
   "cell_type": "code",
   "execution_count": 48,
   "metadata": {},
   "outputs": [
    {
     "name": "stdout",
     "output_type": "stream",
     "text": [
      "                     Percentage Vaccinated\n",
      "Race_Ethnicity                            \n",
      "Asian, Non-Hispanic               0.581178\n",
      "Black, Non-Hispanic               0.271222\n",
      "Hispanic                          0.455856\n",
      "Other, Non-Hispanic               0.447044\n",
      "Overall                           0.455159\n",
      "Unknown                           0.348459\n",
      "White, Non-Hispanic               0.459507\n"
     ]
    }
   ],
   "source": [
    "# grouping\n",
    "group = pd.DataFrame(df1)\n",
    "\n",
    "print(df1.groupby([\"Race_Ethnicity\"]).mean())"
   ]
  },
  {
   "cell_type": "code",
   "execution_count": 49,
   "metadata": {},
   "outputs": [
    {
     "data": {
      "text/html": [
       "<div>\n",
       "<style scoped>\n",
       "    .dataframe tbody tr th:only-of-type {\n",
       "        vertical-align: middle;\n",
       "    }\n",
       "\n",
       "    .dataframe tbody tr th {\n",
       "        vertical-align: top;\n",
       "    }\n",
       "\n",
       "    .dataframe thead th {\n",
       "        text-align: right;\n",
       "    }\n",
       "</style>\n",
       "<table border=\"1\" class=\"dataframe\">\n",
       "  <thead>\n",
       "    <tr style=\"text-align: right;\">\n",
       "      <th></th>\n",
       "      <th>Month</th>\n",
       "      <th>Flu Season</th>\n",
       "      <th>Percentage Vaccinated</th>\n",
       "    </tr>\n",
       "    <tr>\n",
       "      <th>Race_Ethnicity</th>\n",
       "      <th></th>\n",
       "      <th></th>\n",
       "      <th></th>\n",
       "    </tr>\n",
       "  </thead>\n",
       "  <tbody>\n",
       "    <tr>\n",
       "      <th>Asian, Non-Hispanic</th>\n",
       "      <td>SEP</td>\n",
       "      <td>2022-2023</td>\n",
       "      <td>0.8016</td>\n",
       "    </tr>\n",
       "    <tr>\n",
       "      <th>Black, Non-Hispanic</th>\n",
       "      <td>SEP</td>\n",
       "      <td>2022-2023</td>\n",
       "      <td>0.4346</td>\n",
       "    </tr>\n",
       "    <tr>\n",
       "      <th>Hispanic</th>\n",
       "      <td>SEP</td>\n",
       "      <td>2022-2023</td>\n",
       "      <td>0.6789</td>\n",
       "    </tr>\n",
       "    <tr>\n",
       "      <th>Other, Non-Hispanic</th>\n",
       "      <td>SEP</td>\n",
       "      <td>2022-2023</td>\n",
       "      <td>0.6387</td>\n",
       "    </tr>\n",
       "    <tr>\n",
       "      <th>Overall</th>\n",
       "      <td>SEP</td>\n",
       "      <td>2022-2023</td>\n",
       "      <td>0.6550</td>\n",
       "    </tr>\n",
       "    <tr>\n",
       "      <th>Unknown</th>\n",
       "      <td>SEP</td>\n",
       "      <td>2022-2023</td>\n",
       "      <td>0.5290</td>\n",
       "    </tr>\n",
       "    <tr>\n",
       "      <th>White, Non-Hispanic</th>\n",
       "      <td>SEP</td>\n",
       "      <td>2022-2023</td>\n",
       "      <td>0.6543</td>\n",
       "    </tr>\n",
       "  </tbody>\n",
       "</table>\n",
       "</div>"
      ],
      "text/plain": [
       "                    Month Flu Season  Percentage Vaccinated\n",
       "Race_Ethnicity                                             \n",
       "Asian, Non-Hispanic   SEP  2022-2023                 0.8016\n",
       "Black, Non-Hispanic   SEP  2022-2023                 0.4346\n",
       "Hispanic              SEP  2022-2023                 0.6789\n",
       "Other, Non-Hispanic   SEP  2022-2023                 0.6387\n",
       "Overall               SEP  2022-2023                 0.6550\n",
       "Unknown               SEP  2022-2023                 0.5290\n",
       "White, Non-Hispanic   SEP  2022-2023                 0.6543"
      ]
     },
     "execution_count": 49,
     "metadata": {},
     "output_type": "execute_result"
    }
   ],
   "source": [
    "#aggregation\n",
    "df1.groupby('Race_Ethnicity').max()"
   ]
  },
  {
   "cell_type": "code",
   "execution_count": 50,
   "metadata": {},
   "outputs": [
    {
     "data": {
      "text/html": [
       "<div>\n",
       "<style scoped>\n",
       "    .dataframe tbody tr th:only-of-type {\n",
       "        vertical-align: middle;\n",
       "    }\n",
       "\n",
       "    .dataframe tbody tr th {\n",
       "        vertical-align: top;\n",
       "    }\n",
       "\n",
       "    .dataframe thead tr th {\n",
       "        text-align: left;\n",
       "    }\n",
       "\n",
       "    .dataframe thead tr:last-of-type th {\n",
       "        text-align: right;\n",
       "    }\n",
       "</style>\n",
       "<table border=\"1\" class=\"dataframe\">\n",
       "  <thead>\n",
       "    <tr>\n",
       "      <th></th>\n",
       "      <th colspan=\"2\" halign=\"left\">Percentage Vaccinated</th>\n",
       "    </tr>\n",
       "    <tr>\n",
       "      <th></th>\n",
       "      <th>mean</th>\n",
       "      <th>median</th>\n",
       "    </tr>\n",
       "    <tr>\n",
       "      <th>Race_Ethnicity</th>\n",
       "      <th></th>\n",
       "      <th></th>\n",
       "    </tr>\n",
       "  </thead>\n",
       "  <tbody>\n",
       "    <tr>\n",
       "      <th>Asian, Non-Hispanic</th>\n",
       "      <td>0.581178</td>\n",
       "      <td>0.7412</td>\n",
       "    </tr>\n",
       "    <tr>\n",
       "      <th>Black, Non-Hispanic</th>\n",
       "      <td>0.271222</td>\n",
       "      <td>0.3170</td>\n",
       "    </tr>\n",
       "    <tr>\n",
       "      <th>Hispanic</th>\n",
       "      <td>0.455856</td>\n",
       "      <td>0.5321</td>\n",
       "    </tr>\n",
       "    <tr>\n",
       "      <th>Other, Non-Hispanic</th>\n",
       "      <td>0.447044</td>\n",
       "      <td>0.5452</td>\n",
       "    </tr>\n",
       "    <tr>\n",
       "      <th>Overall</th>\n",
       "      <td>0.455159</td>\n",
       "      <td>0.5559</td>\n",
       "    </tr>\n",
       "    <tr>\n",
       "      <th>Unknown</th>\n",
       "      <td>0.348459</td>\n",
       "      <td>0.4409</td>\n",
       "    </tr>\n",
       "    <tr>\n",
       "      <th>White, Non-Hispanic</th>\n",
       "      <td>0.459507</td>\n",
       "      <td>0.5767</td>\n",
       "    </tr>\n",
       "  </tbody>\n",
       "</table>\n",
       "</div>"
      ],
      "text/plain": [
       "                    Percentage Vaccinated        \n",
       "                                     mean  median\n",
       "Race_Ethnicity                                   \n",
       "Asian, Non-Hispanic              0.581178  0.7412\n",
       "Black, Non-Hispanic              0.271222  0.3170\n",
       "Hispanic                         0.455856  0.5321\n",
       "Other, Non-Hispanic              0.447044  0.5452\n",
       "Overall                          0.455159  0.5559\n",
       "Unknown                          0.348459  0.4409\n",
       "White, Non-Hispanic              0.459507  0.5767"
      ]
     },
     "execution_count": 50,
     "metadata": {},
     "output_type": "execute_result"
    }
   ],
   "source": [
    "df1.groupby('Race_Ethnicity').agg(['mean', 'median'])"
   ]
  },
  {
   "cell_type": "code",
   "execution_count": 51,
   "metadata": {},
   "outputs": [
    {
     "data": {
      "text/plain": [
       "Race_Ethnicity\n",
       "Asian, Non-Hispanic    27\n",
       "Black, Non-Hispanic    27\n",
       "Hispanic               27\n",
       "Other, Non-Hispanic    27\n",
       "Overall                27\n",
       "Unknown                27\n",
       "White, Non-Hispanic    27\n",
       "dtype: int64"
      ]
     },
     "execution_count": 51,
     "metadata": {},
     "output_type": "execute_result"
    }
   ],
   "source": [
    "# filteration\n",
    "df1.groupby('Race_Ethnicity').size()"
   ]
  },
  {
   "cell_type": "code",
   "execution_count": 52,
   "metadata": {},
   "outputs": [
    {
     "data": {
      "text/plain": [
       "<bound method NDFrame.head of     Month Flu Season       Race_Ethnicity  Percentage Vaccinated      Country  \\\n",
       "0     AUG  2019-2020              Overall                 0.0540  Afghanistan   \n",
       "1     AUG  2019-2020  White, Non-Hispanic                 0.0365  Afghanistan   \n",
       "2     AUG  2019-2020  Black, Non-Hispanic                 0.0328  Afghanistan   \n",
       "3     AUG  2019-2020             Hispanic                 0.0794  Afghanistan   \n",
       "4     AUG  2019-2020  Asian, Non-Hispanic                 0.0554  Afghanistan   \n",
       "..    ...        ...                  ...                    ...          ...   \n",
       "184   OCT  2022-2023  Black, Non-Hispanic                 0.2045    Argentina   \n",
       "185   OCT  2022-2023             Hispanic                 0.3442    Argentina   \n",
       "186   OCT  2022-2023  Other, Non-Hispanic                 0.3615    Argentina   \n",
       "187   OCT  2022-2023              Unknown                 0.2669    Argentina   \n",
       "188   OCT  2022-2023  White, Non-Hispanic                 0.3659    Argentina   \n",
       "\n",
       "                               WHOREGION                FLUREGION  Year  Week  \\\n",
       "0    Eastern Mediterranean Region of WHO            Southern Asia  2016     1   \n",
       "1    Eastern Mediterranean Region of WHO            Southern Asia  2016     2   \n",
       "2    Eastern Mediterranean Region of WHO            Southern Asia  2016     3   \n",
       "3    Eastern Mediterranean Region of WHO            Southern Asia  2016     4   \n",
       "4    Eastern Mediterranean Region of WHO            Southern Asia  2016     5   \n",
       "..                                   ...                      ...   ...   ...   \n",
       "184        Region of the Americas of WHO  Temperate South America  2017    10   \n",
       "185        Region of the Americas of WHO  Temperate South America  2017    11   \n",
       "186        Region of the Americas of WHO  Temperate South America  2017    12   \n",
       "187        Region of the Americas of WHO  Temperate South America  2017    13   \n",
       "188        Region of the Americas of WHO  Temperate South America  2017    14   \n",
       "\n",
       "          SDATE  ...  AH5  ANOTSUBTYPED  INF_A  BYAMAGATA  BVICTORIA  \\\n",
       "0    2016-01-04  ...  0.0           2.0     13        0.0        0.0   \n",
       "1    2016-01-11  ...  0.0           3.0      3        0.0        0.0   \n",
       "2    2016-01-18  ...  0.0           2.0      2        0.0        0.0   \n",
       "3    2016-01-25  ...  0.0           1.0      1        0.0        0.0   \n",
       "4    2016-02-01  ...  0.0           0.0      0        0.0        0.0   \n",
       "..          ...  ...  ...           ...    ...        ...        ...   \n",
       "184  2017-03-06  ...  NaN           0.0      2        2.0        0.0   \n",
       "185  2017-03-13  ...  NaN           1.0      4        0.0        0.0   \n",
       "186  2017-03-20  ...  NaN           4.0      5        2.0        0.0   \n",
       "187  2017-03-27  ...  NaN           9.0     10        0.0        0.0   \n",
       "188  2017-04-03  ...  NaN           7.0      9        1.0        0.0   \n",
       "\n",
       "     BNOTDETERMINED  INF_B  ALL_INF  ALL_INF2      TITLE  \n",
       "0               0.0      0       13       NaN   Sporadic  \n",
       "1               1.0      1        4       NaN   Sporadic  \n",
       "2               0.0      0        2       NaN   Sporadic  \n",
       "3               2.0      2        3       NaN  No Report  \n",
       "4               0.0      0        0       NaN  No Report  \n",
       "..              ...    ...      ...       ...        ...  \n",
       "184             2.0      4        6     383.0  No Report  \n",
       "185             2.0      2        6     563.0  No Report  \n",
       "186             2.0      4        9     644.0  No Report  \n",
       "187             1.0      1       11     642.0  No Report  \n",
       "188             3.0      4       13     625.0  No Report  \n",
       "\n",
       "[189 rows x 26 columns]>"
      ]
     },
     "execution_count": 52,
     "metadata": {},
     "output_type": "execute_result"
    }
   ],
   "source": [
    "#joining two dataframes df1 and df2\n",
    "import pandas as pd\n",
    "df1.join (df2, lsuffix=\"_left\", rsuffix=\"_right\").head"
   ]
  },
  {
   "cell_type": "code",
   "execution_count": 53,
   "metadata": {},
   "outputs": [
    {
     "name": "stdout",
     "output_type": "stream",
     "text": [
      "Empty DataFrame\n",
      "Columns: []\n",
      "Index: []\n"
     ]
    }
   ],
   "source": [
    "# pivot the data\n",
    "pvt_tab = frame.pivot_table(values= 'spec_received_nb', index = 'title', \n",
    "                     columns= 'race_ethnicity', \n",
    "                     aggfunc= 'sum',  \n",
    "                      )\n",
    "\n",
    "print(pvt_tab)"
   ]
  },
  {
   "cell_type": "code",
   "execution_count": 54,
   "metadata": {},
   "outputs": [
    {
     "data": {
      "image/png": "[encoded data removed]",
      "text/plain": [
       "<Figure size 432x288 with 1 Axes>"
      ]
     },
     "metadata": {
      "needs_background": "light"
     },
     "output_type": "display_data"
    }
   ],
   "source": [
    "import pandas as pd\n",
    "import matplotlib.pyplot as plot       \n",
    "df = pd.DataFrame(data=data);\n",
    "# Draw a vertical bar chart\n",
    "\n",
    "df.plot.bar(x=\"Race_Ethnicity\", y=\"Percentage Vaccinated\", rot=70, title=\"Influenza_vaccine_coverage\");\n",
    "\n",
    "plot.show(block=True);"
   ]
  },
  {
   "cell_type": "code",
   "execution_count": null,
   "metadata": {},
   "outputs": [],
   "source": [
    "# Explanation\n",
    "This bar chart plotted between race_enthnicity with percentage vaccinated and it depicts that\n",
    "Asian non-Hispanic and Hispanic are more vaccinated then other races and White non-Hispanic are \n",
    "very low vaccinated during flu seasons among the years of 2019-2022."
   ]
  },
  {
   "cell_type": "code",
   "execution_count": 55,
   "metadata": {},
   "outputs": [
    {
     "data": {
      "text/plain": [
       "array([[<matplotlib.axes._subplots.AxesSubplot object at 0x7f77017c5278>]],\n",
       "      dtype=object)"
      ]
     },
     "execution_count": 55,
     "metadata": {},
     "output_type": "execute_result"
    },
    {
     "data": {
      "image/png": "[encoded data removed]",
      "text/plain": [
       "<Figure size 432x288 with 1 Axes>"
      ]
     },
     "metadata": {
      "needs_background": "light"
     },
     "output_type": "display_data"
    }
   ],
   "source": [
    "df.hist(column='Percentage Vaccinated')"
   ]
  },
  {
   "cell_type": "code",
   "execution_count": null,
   "metadata": {},
   "outputs": [],
   "source": [
    "# Explanation\n",
    "Histogram of vaccinated percentaged are mostly below 5years and very few vaccinated above 40 years."
   ]
  },
  {
   "cell_type": "markdown",
   "metadata": {},
   "source": []
  },
  {
   "cell_type": "markdown",
   "metadata": {},
   "source": [
    "## Data Analysis"
   ]
  },
  {
   "cell_type": "markdown",
   "metadata": {},
   "source": [
    "* This project aims to examine variables in two data sets(json and csv). Json is a list of dictionary with 26 key:value pairs.These files first concatenate and again change it into excel to get more information.For autism prevalence studies we found that majority of publication are in 2008 while studies were started since 1966 from England.The data analysis children are at adolescent age.\n",
    "\n",
    "* The other part of project is extract data about flu vaccination in difference race_ethnicity and cumulative influenza vaccine coverage from 2019-2022.In that the most of flu are No Report and vacine are working at same level especially Bvictoria and Byamagata.\n"
   ]
  },
  {
   "cell_type": "markdown",
   "metadata": {},
   "source": [
    "### Summary of Data Analysis\n",
    " The summary for autism prevalence studies is that the total 200 types of autism found and these cases are in USA rather than any other of the world that is 56 out of 100.Moreover these have have 49.6 IQ Score.\n",
    "\n",
    "While Flu vaccination part of data concluded thta Asian-Non Hispanic are more vaccinated as compare to other other races of provided in files.\n",
    "\n",
    "Cross tabulated data are created by the variables would appear in more better appreciated using visualization way."
   ]
  },
  {
   "cell_type": "code",
   "execution_count": null,
   "metadata": {},
   "outputs": [],
   "source": []
  },
  {
   "cell_type": "markdown",
   "metadata": {},
   "source": [
    "### Summary of varibles\n",
    "Plots of the cross-tabulated data demonstrate similarities among vaccine type data. \n",
    "\n",
    "#### Age\n",
    "Mean age of age range in data to know that children at what age.\n",
    "\n",
    "#### df2, df3, df4, df5\n",
    "These are varibles names given during data extraction to get mean, median, unique and count of column.\n",
    "\n",
    "#### av_col = \n",
    "average of column to know each columns average so we know about avaerage sample size, average of IQ Score, number of cases and so forth.\n",
    "\n",
    "#### range_frame\n",
    "date differences according to days, weeks, month and years.\n",
    "\n",
    "#### int_col\n",
    "is a interesting column for specific flu title.\n",
    "\n",
    "#### new_data\n",
    "varible given after meraging two files\n",
    "\n",
    "#### data_json\n",
    "when first time two json files concat.\n",
    "\n"
   ]
  },
  {
   "cell_type": "code",
   "execution_count": null,
   "metadata": {},
   "outputs": [],
   "source": []
  },
  {
   "cell_type": "code",
   "execution_count": null,
   "metadata": {},
   "outputs": [],
   "source": []
  },
  {
   "cell_type": "markdown",
   "metadata": {},
   "source": [
    "#### Github Submission\n",
    "Code adapated from homework assignments."
   ]
  },
  {
   "cell_type": "code",
   "execution_count": 80,
   "metadata": {},
   "outputs": [
    {
     "name": "stdin",
     "output_type": "stream",
     "text": [
      "\n",
      "Are you ready to submit your work?\n",
      "1. Click the Save icon (or do Ctrl-S / Cmd-S)\n",
      "2. Type \"yes\" or \"no\" below\n",
      "3. Press Enter\n",
      "\n",
      " yes\n"
     ]
    },
    {
     "name": "stdout",
     "output_type": "stream",
     "text": [
      "Already up to date.\n",
      "[main bb9fd44] Submitting final project programming assignment\n",
      " 2 files changed, 1381 insertions(+), 318 deletions(-)\n",
      "Counting objects: 6, done.\n",
      "Delta compression using up to 2 threads.\n",
      "Compressing objects: 100% (5/5), done.\n",
      "Writing objects: 100% (6/6), 98.48 KiB | 6.15 MiB/s, done.\n",
      "Total 6 (delta 2), reused 0 (delta 0)\n",
      "remote: Resolving deltas: 100% (2/2), completed with 2 local objects.\u001b[K\n",
      "To github.com:ecdmdphd/hds5210-2022.git\n",
      "   157b813..bb9fd44  main -> main\n"
     ]
    }
   ],
   "source": [
    "a=input('''\n",
    "Are you ready to submit your work?\n",
    "1. Click the Save icon (or do Ctrl-S / Cmd-S)\n",
    "2. Type \"yes\" or \"no\" below\n",
    "3. Press Enter\n",
    "\n",
    "''')\n",
    "\n",
    "if a=='yes':\n",
    "    !git pull\n",
    "    !git add Final_DeMarco.ipynb\n",
    "    !git commit -a -m \"Submitting final project programming assignment\"\n",
    "    !git push\n",
    "else:\n",
    "    print('''\n",
    "    \n",
    "OK. We can wait.\n",
    "''')"
   ]
  },
  {
   "cell_type": "code",
   "execution_count": null,
   "metadata": {},
   "outputs": [],
   "source": []
  }
 ],
 "metadata": {
  "kernelspec": {
   "display_name": "Python 3",
   "language": "python",
   "name": "python3"
  },
  "language_info": {
   "codemirror_mode": {
    "name": "ipython",
    "version": 3
   },
   "file_extension": ".py",
   "mimetype": "text/x-python",
   "name": "python",
   "nbconvert_exporter": "python",
   "pygments_lexer": "ipython3",
   "version": "3.6.7"
  }
 },
 "nbformat": 4,
 "nbformat_minor": 4
}
